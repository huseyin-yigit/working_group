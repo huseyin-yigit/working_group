{
 "cells": [
  {
   "cell_type": "code",
   "execution_count": 5,
   "metadata": {
    "tags": []
   },
   "outputs": [
    {
     "output_type": "stream",
     "name": "stdout",
     "text": "138\nTC kimlik numarası geçerlidir\n"
    }
   ],
   "source": [
    "TCkimlik=21268396186\n",
    "mylist=[int(i) for i in str(TCkimlik)]\n",
    "#Python değerleri 2 de buna benzer bir soru çözümü var\n",
    "def tckimlik(n):\n",
    "    sum1=(sum(mylist[0:9:2]))*7 \n",
    "    mult=sum(mylist[1:8:2])\n",
    "    result1=sum1-mult\n",
    "    if result1%10!=mylist[9] and sum(mylist[:10])%10!=mylist[10]:\n",
    "        print('TC kimlik numarası geçersizdir')\n",
    "    else:\n",
    "        print('TC kimlik numarası geçerlidir')\n",
    "tckimlik(TCkimlik)\n"
   ]
  },
  {
   "cell_type": "code",
   "execution_count": null,
   "metadata": {},
   "outputs": [],
   "source": []
  },
  {
   "cell_type": "code",
   "execution_count": null,
   "metadata": {},
   "outputs": [],
   "source": []
  }
 ],
 "metadata": {
  "language_info": {
   "codemirror_mode": {
    "name": "ipython",
    "version": 3
   },
   "file_extension": ".py",
   "mimetype": "text/x-python",
   "name": "python",
   "nbconvert_exporter": "python",
   "pygments_lexer": "ipython3",
   "version": "3.8.2-final"
  },
  "orig_nbformat": 2,
  "kernelspec": {
   "name": "python38264bit3f4bc9d21b0a470cb598dcfc81df52f4",
   "display_name": "Python 3.8.2 64-bit"
  }
 },
 "nbformat": 4,
 "nbformat_minor": 2
}